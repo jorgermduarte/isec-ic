{
 "cells": [
  {
   "cell_type": "code",
   "execution_count": 2,
   "id": "69bfc8df-1630-4e40-ac1c-94364ad3c69a",
   "metadata": {
    "tags": []
   },
   "outputs": [],
   "source": [
    "import os\n",
    "import uuid\n",
    "import numpy as np\n",
    "from PIL import Image  # Import the Image class from the PIL (Pillow) library\n",
    "import tensorflow as tf\n",
    "from tensorflow import keras\n",
    "from sklearn.metrics import confusion_matrix, classification_report"
   ]
  },
  {
   "cell_type": "code",
   "execution_count": 11,
   "id": "327732d1-8bee-402e-9cc0-defa244f3002",
   "metadata": {},
   "outputs": [],
   "source": [
    "train_dir = \"isec-ic\\\\dataset\\\\train\"\n",
    "validation_dir = \"isec-ic\\\\dataset\\\\valid\"\n",
    "test_dir = \"isec-ic\\\\dataset\\\\test\"\n",
    "\n",
    "current_dir = os.path.dirname(os.path.realpath(__file__ if '__file__' in locals() else os.getcwd()))\n",
    "\n",
    "train_dir = os.path.join(current_dir, train_dir)\n",
    "validation_dir = os.path.join(current_dir, validation_dir)\n",
    "test_dir = os.path.join(current_dir, test_dir)\n",
    "\n",
    "# \"scab\", \"rot\", \"rust\", \"mildew\",\"scorch\",\n",
    "categories = [\"healthy\", \"blight\", \"spot\",  \"mold\", \"virus\", \"mite\"]\n"
   ]
  },
  {
   "cell_type": "code",
   "execution_count": 12,
   "id": "26beec0c-98a8-49ea-8b59-b61e6b6ccbde",
   "metadata": {},
   "outputs": [],
   "source": [
    "def load_images_from_folder(folder):\n",
    "    images = []\n",
    "    labels = []\n",
    "    subfolders = os.listdir(folder)  # list of subfolders in the main folder\n",
    "    \n",
    "    for subfolder in subfolders:\n",
    "        category = subfolder.split(\"_\")[-1].lower()  # category of the subfolder (e.g., \"scab\" from \"Apple___Apple_scab\")\n",
    "        \n",
    "        if category in categories:\n",
    "            print(\"Loading images from category: \" + category + \" and subfolder: \" + subfolder)\n",
    "            subfolder_path = os.path.join(folder, subfolder)\n",
    "            \n",
    "            for filename in os.listdir(subfolder_path):\n",
    "                img = Image.open(os.path.join(subfolder_path, filename))\n",
    "                img = img.resize((224, 224))  # resize if you want to use a different input size\n",
    "                img = np.array(img) / 255.0  # normalization of the pixel values between 0 and 1\n",
    "                images.append(img)\n",
    "                labels.append(categories.index(category))  # index of the category in the list of categories\n",
    "        else:\n",
    "            print(\"Category: \" + category + \" from subfolder \" + subfolder + \" is not in the list of categories.\")\n",
    "\n",
    "    return np.array(images), np.array(labels)"
   ]
  },
  {
   "cell_type": "code",
   "execution_count": 13,
   "id": "1aee650a-5b15-4f1e-bdc8-6d7f45cfa2ef",
   "metadata": {
    "tags": []
   },
   "outputs": [
    {
     "name": "stdout",
     "output_type": "stream",
     "text": [
      "Loading images from category: spot and subfolder: Tomato___Bacterial_spot\n",
      "Loading images from category: blight and subfolder: Tomato___Early_blight\n",
      "Loading images from category: healthy and subfolder: Tomato___healthy\n",
      "Loading images from category: blight and subfolder: Tomato___Late_blight\n",
      "Loading images from category: mold and subfolder: Tomato___Leaf_Mold\n",
      "Loading images from category: spot and subfolder: Tomato___Septoria_leaf_spot\n",
      "Loading images from category: mite and subfolder: Tomato___Spider_mites Two-spotted_spider_mite\n",
      "Loading images from category: spot and subfolder: Tomato___Target_Spot\n",
      "Loading images from category: virus and subfolder: Tomato___Tomato_mosaic_virus\n",
      "Loading images from category: virus and subfolder: Tomato___Tomato_Yellow_Leaf_Curl_Virus\n",
      "Finished to load the train images\n"
     ]
    }
   ],
   "source": [
    "x_train, y_train = load_images_from_folder(train_dir)\n",
    "print(\"Finished to load the train images\")"
   ]
  },
  {
   "cell_type": "code",
   "execution_count": 15,
   "id": "494252e6-37eb-466f-b536-ee23c557886d",
   "metadata": {
    "tags": []
   },
   "outputs": [
    {
     "name": "stdout",
     "output_type": "stream",
     "text": [
      "Loading images from category: spot and subfolder: Tomato___Bacterial_spot\n",
      "Loading images from category: blight and subfolder: Tomato___Early_blight\n",
      "Loading images from category: healthy and subfolder: Tomato___healthy\n",
      "Loading images from category: blight and subfolder: Tomato___Late_blight\n",
      "Loading images from category: mold and subfolder: Tomato___Leaf_Mold\n",
      "Loading images from category: spot and subfolder: Tomato___Septoria_leaf_spot\n",
      "Loading images from category: mite and subfolder: Tomato___Spider_mites Two-spotted_spider_mite\n",
      "Loading images from category: spot and subfolder: Tomato___Target_Spot\n",
      "Loading images from category: virus and subfolder: Tomato___Tomato_mosaic_virus\n",
      "Loading images from category: virus and subfolder: Tomato___Tomato_Yellow_Leaf_Curl_Virus\n",
      "Finished to load the validation images\n"
     ]
    }
   ],
   "source": [
    "x_validation, y_validation = load_images_from_folder(validation_dir)\n",
    "print(\"Finished to load the validation images\")"
   ]
  },
  {
   "cell_type": "code",
   "execution_count": 29,
   "id": "d1133ca4-6e3c-482e-9b50-77fb40cc8818",
   "metadata": {
    "tags": []
   },
   "outputs": [
    {
     "name": "stdout",
     "output_type": "stream",
     "text": [
      "Loading images from category: blight and subfolder: tomato_blight\n",
      "Loading images from category: healthy and subfolder: tomato_healthy\n",
      "Loading images from category: mite and subfolder: tomato_mite\n",
      "Loading images from category: mold and subfolder: tomato_mold\n",
      "Loading images from category: spot and subfolder: tomato_spot\n",
      "Loading images from category: virus and subfolder: tomato_yellow_virus\n",
      "Finished to load the test images\n"
     ]
    }
   ],
   "source": [
    "x_test, y_test = load_images_from_folder(test_dir)\n",
    "print(\"Finished to load the test images\");"
   ]
  },
  {
   "cell_type": "code",
   "execution_count": 31,
   "id": "35f95b62-fd68-4ec6-a73e-b10b5193de33",
   "metadata": {
    "tags": []
   },
   "outputs": [
    {
     "name": "stdout",
     "output_type": "stream",
     "text": [
      "Number of training images: 18345\n",
      "Number of validation images: 4585\n",
      "Number of test images: 43\n"
     ]
    }
   ],
   "source": [
    "# Display the total number of images loaded\n",
    "print(\"Number of training images: \" + str(len(x_train)))\n",
    "print(\"Number of validation images: \" + str(len(x_validation)))\n",
    "print(\"Number of test images: \" + str(len(x_test)))"
   ]
  },
  {
   "cell_type": "code",
   "execution_count": 37,
   "id": "f3317964-c1c5-4b57-a0cf-87d4cab7d504",
   "metadata": {
    "tags": []
   },
   "outputs": [
    {
     "name": "stdout",
     "output_type": "stream",
     "text": [
      "Creating the MLP network\n",
      "Finished creating the MLP Model\n"
     ]
    }
   ],
   "source": [
    "print(\"Creating the MLP network\")\n",
    "model = keras.Sequential([\n",
    "    keras.layers.Flatten(input_shape=(224, 224, 3)),\n",
    "    keras.layers.Dense(128, activation='relu'),\n",
    "    keras.layers.Dense(64, activation='relu'),\n",
    "    keras.layers.Dense(10, activation='softmax')\n",
    "])\n",
    "print(\"Finished creating the MLP Model\")"
   ]
  },
  {
   "cell_type": "code",
   "execution_count": 38,
   "id": "9e9ba335-baf0-4331-85fb-3d55362aa6a1",
   "metadata": {
    "tags": []
   },
   "outputs": [
    {
     "name": "stdout",
     "output_type": "stream",
     "text": [
      "Starting to train and validate the model\n",
      "Epoch 1/10\n",
      "574/574 [==============================] - 40s 68ms/step - loss: 4.1362 - accuracy: 0.4007 - val_loss: 1.8172 - val_accuracy: 0.5320\n",
      "Epoch 2/10\n",
      "574/574 [==============================] - 36s 63ms/step - loss: 1.7983 - accuracy: 0.5010 - val_loss: 1.4746 - val_accuracy: 0.5012\n",
      "Epoch 3/10\n",
      "574/574 [==============================] - 37s 64ms/step - loss: 1.3274 - accuracy: 0.5509 - val_loss: 1.3125 - val_accuracy: 0.5208\n",
      "Epoch 4/10\n",
      "574/574 [==============================] - 37s 64ms/step - loss: 1.2414 - accuracy: 0.5607 - val_loss: 1.4249 - val_accuracy: 0.5272\n",
      "Epoch 5/10\n",
      "574/574 [==============================] - 37s 64ms/step - loss: 1.1186 - accuracy: 0.5869 - val_loss: 1.3601 - val_accuracy: 0.5285\n",
      "Epoch 6/10\n",
      "574/574 [==============================] - 37s 64ms/step - loss: 1.0645 - accuracy: 0.6056 - val_loss: 1.0287 - val_accuracy: 0.6124\n",
      "Epoch 7/10\n",
      "574/574 [==============================] - 37s 65ms/step - loss: 1.0485 - accuracy: 0.6139 - val_loss: 1.0302 - val_accuracy: 0.6000\n",
      "Epoch 8/10\n",
      "574/574 [==============================] - 37s 65ms/step - loss: 0.9516 - accuracy: 0.6444 - val_loss: 0.9823 - val_accuracy: 0.6323\n",
      "Epoch 9/10\n",
      "574/574 [==============================] - 37s 64ms/step - loss: 0.9346 - accuracy: 0.6546 - val_loss: 1.0380 - val_accuracy: 0.6220\n",
      "Epoch 10/10\n",
      "574/574 [==============================] - 37s 64ms/step - loss: 0.9303 - accuracy: 0.6529 - val_loss: 1.0952 - val_accuracy: 0.5974\n",
      "Finished training and validating the model\n"
     ]
    }
   ],
   "source": [
    "print(\"Starting to train and validate the model\")\n",
    "model.compile(optimizer='adam', loss='sparse_categorical_crossentropy', metrics=['accuracy'])\n",
    "model.fit(x_train, y_train, epochs=10, validation_data=(x_validation, y_validation))\n",
    "print(\"Finished training and validating the model\")"
   ]
  },
  {
   "cell_type": "code",
   "execution_count": 39,
   "id": "fb3fec88-2f4b-416b-bf1d-ab39f7274892",
   "metadata": {
    "tags": []
   },
   "outputs": [
    {
     "name": "stdout",
     "output_type": "stream",
     "text": [
      "2/2 [==============================] - 0s 4ms/step\n",
      "[1 1 2 2 1 5 2 0 0 0 5 5 5 5 5 5 5 5 5 2 2 2 1 2 1 2 3 2 2 2 2 2 0 1 2 2 2\n",
      " 4 4 2 2 2 4]\n",
      "['healthy', 'blight', 'spot', 'mold', 'virus', 'mite']\n",
      "Confusion Matrix: \n",
      "[[3 0 1 0 0 0]\n",
      " [0 3 2 0 0 1]\n",
      " [1 1 7 0 0 0]\n",
      " [0 2 4 1 0 0]\n",
      " [0 0 3 0 3 0]\n",
      " [0 0 2 0 0 9]]\n",
      "Classification Report: \n",
      "              precision    recall  f1-score   support\n",
      "\n",
      "     healthy       0.75      0.75      0.75         4\n",
      "      blight       0.50      0.50      0.50         6\n",
      "        spot       0.37      0.78      0.50         9\n",
      "        mold       1.00      0.14      0.25         7\n",
      "       virus       1.00      0.50      0.67         6\n",
      "        mite       0.90      0.82      0.86        11\n",
      "\n",
      "    accuracy                           0.60        43\n",
      "   macro avg       0.75      0.58      0.59        43\n",
      "weighted avg       0.75      0.60      0.60        43\n",
      "\n"
     ]
    }
   ],
   "source": [
    "y_pred = model.predict(x_test)\n",
    "y_pred_classes = np.argmax(y_pred, axis=1)\n",
    "\n",
    "print(y_pred_classes)\n",
    "print(categories)\n",
    "confusion = confusion_matrix(y_test, y_pred_classes)\n",
    "print(\"Confusion Matrix: \")\n",
    "print(confusion)\n",
    "\n",
    "classification = classification_report(y_test, y_pred_classes, target_names=categories)\n",
    "print(\"Classification Report: \")\n",
    "print(classification)"
   ]
  },
  {
   "cell_type": "code",
   "execution_count": 42,
   "id": "1e10c4c1-d717-4c1c-ba29-9a4eeb272cf3",
   "metadata": {},
   "outputs": [],
   "source": [
    "# generate a new uuid for the model\n",
    "model_uuid = uuid.uuid4()\n",
    "# save the model\n",
    "model.save(\"models/\" + str(model_uuid) + \".keras\")"
   ]
  }
 ],
 "metadata": {
  "kernelspec": {
   "display_name": "Python 3 (ipykernel)",
   "language": "python",
   "name": "python3"
  },
  "language_info": {
   "codemirror_mode": {
    "name": "ipython",
    "version": 3
   },
   "file_extension": ".py",
   "mimetype": "text/x-python",
   "name": "python",
   "nbconvert_exporter": "python",
   "pygments_lexer": "ipython3",
   "version": "3.8.18"
  }
 },
 "nbformat": 4,
 "nbformat_minor": 5
}
