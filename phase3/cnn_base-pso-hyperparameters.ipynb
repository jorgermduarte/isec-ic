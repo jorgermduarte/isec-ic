{
 "cells": [
  {
   "cell_type": "code",
   "execution_count": 23,
   "metadata": {
    "tags": []
   },
   "outputs": [
    {
     "name": "stdout",
     "output_type": "stream",
     "text": [
      "Loading images from category: spidermite and subfolder: Tomato__spidermite\n",
      "Loading images from category: bacterialspot and subfolder: Tomato___Bacterialspot\n",
      "Category: earlyblight from subfolder Tomato___Earlyblight is not in the list of categories.\n",
      "Loading images from category: healthy and subfolder: Tomato___healthy\n",
      "Loading images from category: lateblight and subfolder: Tomato___Lateblight\n",
      "Loading images from category: leafmold and subfolder: Tomato___Leafmold\n",
      "Loading images from category: septorialeafspot and subfolder: Tomato___Septorialeafspot\n",
      "Category: targetspot from subfolder Tomato___Targetspot is not in the list of categories.\n",
      "Loading images from category: mosaicvirus and subfolder: Tomato___Tomato_mosaicvirus\n",
      "Loading images from category: yellowleafcurlvirus and subfolder: Tomato___Tomato_yellowleafcurlvirus\n",
      "Loading images from category: bacterialspot and subfolder: Tomato___Bacterialspot\n",
      "Category: earlyblight from subfolder Tomato___Earlyblight is not in the list of categories.\n",
      "Loading images from category: healthy and subfolder: Tomato___healthy\n",
      "Loading images from category: lateblight and subfolder: Tomato___Lateblight\n",
      "Loading images from category: leafmold and subfolder: Tomato___Leafmold\n",
      "Loading images from category: septorialeafspot and subfolder: Tomato___Septorialeafspot\n",
      "Loading images from category: spidermite and subfolder: Tomato___Spider_spidermite\n",
      "Category: targetspot from subfolder Tomato___Targetspot is not in the list of categories.\n",
      "Loading images from category: mosaicvirus and subfolder: Tomato___Tomato_mosaicvirus\n",
      "Loading images from category: yellowleafcurlvirus and subfolder: Tomato___Tomato_Yellowleafcurlvirus\n",
      "Loading images from category: bacterialspot and subfolder: tomato_bacterialspot\n",
      "Category: earlyblight from subfolder tomato_earlyblight is not in the list of categories.\n",
      "Loading images from category: healthy and subfolder: tomato_healthy\n",
      "Loading images from category: lateblight and subfolder: tomato_lateblight\n",
      "Loading images from category: leafmold and subfolder: tomato_leafmold\n",
      "Loading images from category: mosaicvirus and subfolder: tomato_mosaicvirus\n",
      "Loading images from category: septorialeafspot and subfolder: tomato_Septorialeafspot\n",
      "Loading images from category: spidermite and subfolder: tomato_spidermite\n",
      "Category: targetspot from subfolder tomato_targetspot is not in the list of categories.\n",
      "Loading images from category: yellowleafcurlvirus and subfolder: tomato_yellowleafcurlvirus\n",
      "Images loaded successfully\n"
     ]
    }
   ],
   "source": [
    "import os\n",
    "import numpy as np\n",
    "from PIL import Image\n",
    "import tensorflow as tf\n",
    "\n",
    "train_dir = \"..\\isec-ic\\\\dataset\\\\train\"\n",
    "validation_dir = \"..\\isec-ic\\\\dataset\\\\valid\"\n",
    "test_dir = \"..\\isec-ic\\\\dataset\\\\test\"\n",
    "\n",
    "current_dir = os.path.dirname(os.path.realpath(__file__ if '__file__' in locals() else os.getcwd()))\n",
    "train_dir = os.path.join(current_dir, train_dir)\n",
    "validation_dir = os.path.join(current_dir, validation_dir)\n",
    "test_dir = os.path.join(current_dir, test_dir)\n",
    "\n",
    "categories = [\"bacterialspot\", \"healthy\",\"lateblight\",\"leafmold\", \"mosaicvirus\",\"yellowleafcurlvirus\" ,\"spidermite\",\"septorialeafspot\" ]\n",
    "\n",
    "def load_images_from_folder(folder):\n",
    "    images = []\n",
    "    labels = []\n",
    "    subfolders = os.listdir(folder)\n",
    "    for subfolder in subfolders:\n",
    "        category = subfolder.split(\"_\")[-1].lower()\n",
    "        if category in categories:\n",
    "            print(\"Loading images from category: \" + category + \" and subfolder: \" + subfolder)\n",
    "            subfolder_path = os.path.join(folder, subfolder)\n",
    "            for filename in os.listdir(subfolder_path):\n",
    "                img = Image.open(os.path.join(subfolder_path, filename))\n",
    "                img = img.resize((64, 64))\n",
    "                img = np.array(img) / 255.0\n",
    "                images.append(img)\n",
    "                labels.append(categories.index(category))\n",
    "        else:\n",
    "            print(\"Category: \" + category + \" from subfolder \" + subfolder + \" is not in the list of categories.\")\n",
    "    return np.array(images), np.array(labels)\n",
    "\n",
    "\n",
    "x_train, y_train = load_images_from_folder(train_dir)\n",
    "x_validation, y_validation = load_images_from_folder(validation_dir)\n",
    "x_test, y_test = load_images_from_folderw(test_dir)\n",
    "\n",
    "print(\"Images loaded successfully\")"
   ]
  },
  {
   "cell_type": "code",
   "execution_count": 30,
   "metadata": {},
   "outputs": [
    {
     "name": "stdout",
     "output_type": "stream",
     "text": [
      "Create_cnn_model function loaded\n"
     ]
    }
   ],
   "source": [
    "from tensorflow.keras.applications import VGG16\n",
    "from tensorflow.keras.applications import ResNet50\n",
    "from tensorflow.keras.applications import Xception\n",
    "\n",
    "\n",
    "from tensorflow.keras.models import Model\n",
    "from tensorflow.keras.layers import Input, Flatten, Dense, Dropout\n",
    "\n",
    "def create_cnn_model(dropout_rate, learning_rate):\n",
    "    # Garantir que o dropout_rate esteja no intervalo [0, 1)\n",
    "    #base_model = VGG16(weights='imagenet', include_top=False, input_shape=(64, 64, 3))\n",
    "    #base_model = ResNet50(weights='imagenet', include_top=False, input_tensor=Input(shape=(64, 64, 3)))\n",
    "    base_model = Xception(weights='imagenet', include_top=False, input_tensor=Input(shape=(64, 64, 3)))\n",
    "\n",
    "    for layer in base_model.layers:\n",
    "        layer.trainable = False\n",
    "\n",
    "    # Add the dense layers (top layers)\n",
    "    x = base_model.output\n",
    "    x = Flatten()(x)  # Flatten the output layer to 1 dimension\n",
    "    x = Dense(512, activation='relu')(x)   #  First dense layer\n",
    "    x = Dropout(dropout_rate)(x)  # Dropout to reduce overfitting\n",
    "    predictions = Dense(len(categories), activation='softmax')(x)  # Output layer\n",
    "\n",
    "    # Final model\n",
    "    model = Model(inputs=base_model.input, outputs=predictions)\n",
    "\n",
    "    model.compile(optimizer=tf.keras.optimizers.Adam(learning_rate=learning_rate),\n",
    "                  loss='sparse_categorical_crossentropy',\n",
    "                  metrics=['accuracy'])\n",
    "    return model\n",
    "\n",
    "print(\"Create_cnn_model function loaded\")"
   ]
  },
  {
   "cell_type": "code",
   "execution_count": 17,
   "metadata": {},
   "outputs": [
    {
     "name": "stdout",
     "output_type": "stream",
     "text": [
      "Iniciando a otimização com PSO...\n",
      " - generated cnn model -> dropout_rate: 0.868274245194535, learning_rate: 0.007649368090811468, auc score: 0.42745243021523094\n",
      " - generated cnn model -> dropout_rate: 0.8121780405843094, learning_rate: 0.006027407295593744, auc score: 0.09195122659755417\n",
      " - generated cnn model -> dropout_rate: 0.8559206894647304, learning_rate: 0.006002485209077664, auc score: 0.20211072182565648\n",
      " - generated cnn model -> dropout_rate: 0.8121780405843094, learning_rate: 0.006027407295593744, auc score: 0.09813893976793653\n",
      " - generated cnn model -> dropout_rate: 0.8121780405843094, learning_rate: 0.006027407295593744, auc score: 0.09683431611526205\n",
      " - generated cnn model -> dropout_rate: 0.8121780405843094, learning_rate: 0.006027407295593744, auc score: 0.09233177888804411\n",
      " - generated cnn model -> dropout_rate: 0.7788575187650155, learning_rate: 0.005204296364559099, auc score: 0.04708568386888312\n",
      " - generated cnn model -> dropout_rate: 0.8121780405843094, learning_rate: 0.006027407295593744, auc score: 0.09300597382024733\n",
      " - generated cnn model -> dropout_rate: 0.7788575187650155, learning_rate: 0.005204296364559099, auc score: 0.042169410333775526\n",
      " - generated cnn model -> dropout_rate: 0.8121780405843094, learning_rate: 0.006027407295593744, auc score: 0.08326399557490338\n",
      " - generated cnn model -> dropout_rate: 0.7403259334151581, learning_rate: 0.0048052019422998166, auc score: 0.028406434146500792\n",
      " - generated cnn model -> dropout_rate: 0.7670986609591387, learning_rate: 0.004806339149381204, auc score: 0.04377192016034859\n",
      " - generated cnn model -> dropout_rate: 0.7403259334151581, learning_rate: 0.0048052019422998166, auc score: 0.030691866434801818\n",
      " - generated cnn model -> dropout_rate: 0.7403259334151581, learning_rate: 0.0048052019422998166, auc score: 0.029735676497648078\n",
      " - generated cnn model -> dropout_rate: 0.7210601407402294, learning_rate: 0.0046056547311701754, auc score: 0.025994119536924765\n",
      " - generated cnn model -> dropout_rate: 0.7261847984697797, learning_rate: 0.004195214287320627, auc score: 0.025294790202204487\n",
      " - generated cnn model -> dropout_rate: 0.7261847984697797, learning_rate: 0.004195214287320627, auc score: 0.023722136881738853\n",
      " - generated cnn model -> dropout_rate: 0.7403259334151581, learning_rate: 0.0048052019422998166, auc score: 0.02909356717257816\n",
      " - generated cnn model -> dropout_rate: 0.7185920506926321, learning_rate: 0.0041676499152451104, auc score: 0.024318119862995147\n",
      " - generated cnn model -> dropout_rate: 0.7057278672251002, learning_rate: 0.003889651856290339, auc score: 0.02163746171585179\n",
      " - generated cnn model -> dropout_rate: 0.7057278672251002, learning_rate: 0.003889651856290339, auc score: 0.022540741700641242\n",
      " - generated cnn model -> dropout_rate: 0.7057278672251002, learning_rate: 0.003889651856290339, auc score: 0.0229068355262545\n",
      "Melhores parâmetros encontrados: \n",
      "Best dropout rate: 0.7057278672251002, Best Learning Rate: 0.003889651856290339\n"
     ]
    }
   ],
   "source": [
    "from swarm.pso import pso\n",
    "from tensorflow.keras.utils import to_categorical\n",
    "from sklearn.metrics import roc_auc_score\n",
    "from sklearn.model_selection import KFold\n",
    "\n",
    "def evaluate_model_PSO(solution):\n",
    "    dropout_rate, learning_rate = solution\n",
    "    dropout_rate = abs(dropout_rate)\n",
    "    learning_rate = abs(learning_rate)\n",
    "    kfold = KFold(n_splits=5, shuffle=True, random_state=42)  # 5 folds\n",
    "    auc_scores = []\n",
    "\n",
    "    for train, val in kfold.split(x_train, y_train):\n",
    "        model = create_cnn_model(dropout_rate, learning_rate)\n",
    "        \n",
    "        # Treina o modelo com os dados de treino e valida nos dados de validação\n",
    "        model.fit(x_train[train], y_train[train], epochs=5, batch_size=32, verbose=0)\n",
    "        y_pred = model.predict(x_train[val])\n",
    "        y_val_categorical = to_categorical(y_train[val], num_classes=len(categories))\n",
    "        auc_score = roc_auc_score(y_val_categorical, y_pred, multi_class='ovr')\n",
    "        auc_scores.append(auc_score)\n",
    "        print(f\"   -- generating model with -> dropout_rate: {dropout_rate}, learning_rate: {learning_rate}, auc score: {auc_score}\")\n",
    "\n",
    "    auc_median_score = 1 - np.mean(auc_scores)   # Minimizar 1 - AUC\n",
    "    print(f\" - generated cnn models -> dropout_rate: {dropout_rate}, learning_rate: {learning_rate}, auc median score (minimized): {auc_median_score}\")\n",
    "    \n",
    "    # Retorna a média do AUC score\n",
    "    return auc_median_score\n",
    "\n",
    "# Inicializar e executar PSO\n",
    "print(\"Iniciando a otimização com PSO...\")\n",
    "dimension = 2    # Número de dimensões (neste caso, dropout_rate e learning_rate)\n",
    "lb = [0.1, 0.0001]   # Limites inferiores para dropout_rate e learning_rate\n",
    "ub = [1, 0.01]    # Limites superiores para dropout_rate e learning_rate\n",
    "\n",
    "num_agents = 2  # Número de agentes\n",
    "max_iter = 5    # Número de iterações\n",
    "\n",
    "# Criando a instância do PSO\n",
    "pso_instance = pso(n=num_agents, function=evaluate_model_PSO, lb=lb, ub=ub, dimension=dimension, iteration=max_iter)\n",
    "best_solution = pso_instance.get_Gbest()\n",
    "\n",
    "best_dropout_rate, best_learning_rate = best_solution\n",
    "best_dropout_rate = abs(best_dropout_rate)\n",
    "best_learning_rate = abs(best_learning_rate)\n",
    "print(f\"Melhores parâmetros encontrados: \\nBest dropout rate: {best_dropout_rate}, Best Learning Rate: {best_learning_rate}\")"
   ]
  },
  {
   "cell_type": "code",
   "execution_count": 31,
   "metadata": {
    "tags": []
   },
   "outputs": [
    {
     "name": "stdout",
     "output_type": "stream",
     "text": [
      "Treinando o modelo com os melhores hiperparâmetros...\n",
      "Downloading data from https://storage.googleapis.com/tensorflow/keras-applications/xception/xception_weights_tf_dim_ordering_tf_kernels_notop.h5\n",
      "83689472/83683744 [==============================] - 7s 0us/step\n",
      "Epoch 1/20\n",
      "375/375 [==============================] - 6s 12ms/step - loss: 2.0456 - accuracy: 0.4252 - val_loss: 0.9456 - val_accuracy: 0.6909\n",
      "Epoch 2/20\n",
      "375/375 [==============================] - 4s 10ms/step - loss: 1.2218 - accuracy: 0.5900 - val_loss: 0.7909 - val_accuracy: 0.7403\n",
      "Epoch 3/20\n",
      "375/375 [==============================] - 4s 10ms/step - loss: 1.0939 - accuracy: 0.6365 - val_loss: 0.7645 - val_accuracy: 0.7437\n",
      "Epoch 4/20\n",
      "375/375 [==============================] - 4s 10ms/step - loss: 1.0506 - accuracy: 0.6464 - val_loss: 0.7153 - val_accuracy: 0.7669\n",
      "Epoch 5/20\n",
      "375/375 [==============================] - 4s 10ms/step - loss: 1.0204 - accuracy: 0.6502 - val_loss: 0.6883 - val_accuracy: 0.7722\n",
      "Epoch 6/20\n",
      "375/375 [==============================] - 4s 10ms/step - loss: 0.9588 - accuracy: 0.6764 - val_loss: 0.6825 - val_accuracy: 0.7781\n",
      "Epoch 7/20\n",
      "375/375 [==============================] - 4s 10ms/step - loss: 0.9180 - accuracy: 0.6973 - val_loss: 0.6725 - val_accuracy: 0.7756\n",
      "Epoch 8/20\n",
      "375/375 [==============================] - 4s 10ms/step - loss: 0.9217 - accuracy: 0.6995 - val_loss: 0.6379 - val_accuracy: 0.7872\n",
      "Epoch 9/20\n",
      "375/375 [==============================] - 4s 10ms/step - loss: 0.8812 - accuracy: 0.7111 - val_loss: 0.6185 - val_accuracy: 0.8016\n",
      "Epoch 10/20\n",
      "375/375 [==============================] - 4s 10ms/step - loss: 0.8536 - accuracy: 0.7090 - val_loss: 0.6333 - val_accuracy: 0.7956\n",
      "Epoch 11/20\n",
      "375/375 [==============================] - 4s 10ms/step - loss: 0.8159 - accuracy: 0.7328 - val_loss: 0.6308 - val_accuracy: 0.7987\n",
      "Epoch 12/20\n",
      "375/375 [==============================] - 4s 10ms/step - loss: 0.8044 - accuracy: 0.7340 - val_loss: 0.6280 - val_accuracy: 0.7987\n",
      "Epoch 13/20\n",
      "375/375 [==============================] - 4s 11ms/step - loss: 0.8037 - accuracy: 0.7303 - val_loss: 0.6024 - val_accuracy: 0.8081\n",
      "Epoch 14/20\n",
      "375/375 [==============================] - 4s 10ms/step - loss: 0.7484 - accuracy: 0.7491 - val_loss: 0.6001 - val_accuracy: 0.8022\n",
      "Epoch 15/20\n",
      "375/375 [==============================] - 4s 10ms/step - loss: 0.7859 - accuracy: 0.7397 - val_loss: 0.6219 - val_accuracy: 0.7950\n",
      "Epoch 16/20\n",
      "375/375 [==============================] - 4s 10ms/step - loss: 0.7782 - accuracy: 0.7369 - val_loss: 0.5997 - val_accuracy: 0.8059\n",
      "Epoch 17/20\n",
      "375/375 [==============================] - 4s 10ms/step - loss: 0.7076 - accuracy: 0.7619 - val_loss: 0.5966 - val_accuracy: 0.8103\n",
      "Epoch 18/20\n",
      "375/375 [==============================] - 4s 10ms/step - loss: 0.7265 - accuracy: 0.7547 - val_loss: 0.6022 - val_accuracy: 0.8081\n",
      "Epoch 19/20\n",
      "375/375 [==============================] - 4s 10ms/step - loss: 0.7220 - accuracy: 0.7677 - val_loss: 0.5994 - val_accuracy: 0.8222\n",
      "Epoch 20/20\n",
      "375/375 [==============================] - 4s 10ms/step - loss: 0.6828 - accuracy: 0.7767 - val_loss: 0.6180 - val_accuracy: 0.8084\n",
      "Melhor Accuracy de Treinamento (CNN VGG-16): 0.7670000195503235\n",
      "Melhor Accuracy de Validação (CNN VGG-16): 0.8084375262260437\n"
     ]
    },
    {
     "data": {
      "image/png": "[encoded data removed]",
      "text/plain": [
       "<Figure size 640x480 with 1 Axes>"
      ]
     },
     "metadata": {},
     "output_type": "display_data"
    }
   ],
   "source": [
    "best_learning_rate = 0.003889651856290339 \n",
    "best_dropout_rate = 0.7057278672251002\n",
    "\n",
    "print(\"Treinando o modelo com os melhores hiperparâmetros...\")\n",
    "best_model = create_cnn_model(best_dropout_rate, best_learning_rate)\n",
    "best_model_history = best_model.fit(x_train, y_train, epochs=20, batch_size=32, verbose=1, validation_data=(x_validation, y_validation))\n",
    "\n",
    "best_pso_train_accuracy = best_model_history.history['accuracy'][-1]\n",
    "best_pso_validation_accuracy = best_model_history.history['val_accuracy'][-1]\n",
    "\n",
    "print(\"Melhor Accuracy de Treinamento (CNN VGG-16):\", best_pso_train_accuracy)\n",
    "print(\"Melhor Accuracy de Validação (CNN VGG-16):\", best_pso_validation_accuracy)\n",
    "\n",
    "import matplotlib.pyplot as plt\n",
    "\n",
    "# Plotar as curvas de treino e validação\n",
    "plt.plot(best_model_history.history['accuracy'], label='Treinamento')\n",
    "plt.plot(best_model_history.history['val_accuracy'], label='Validação')\n",
    "plt.xlabel('Épocas')\n",
    "plt.ylabel('Accuracy')\n",
    "plt.legend()\n",
    "plt.show()\n"
   ]
  },
  {
   "cell_type": "code",
   "execution_count": 32,
   "metadata": {},
   "outputs": [
    {
     "name": "stdout",
     "output_type": "stream",
     "text": [
      "Avaliando o modelo no conjunto de teste...\n",
      "Acurácia no Teste: 0.8100000023841858, Loss: 0.5628936290740967\n"
     ]
    }
   ],
   "source": [
    "print(\"Avaliando o modelo no conjunto de teste...\")\n",
    "loss_test, test_accuracy = best_model.evaluate(x_test, y_test, verbose=0)\n",
    "\n",
    "print(f\"Acurácia no Teste: {test_accuracy}, Loss: {loss_test}\")"
   ]
  },
  {
   "cell_type": "code",
   "execution_count": null,
   "metadata": {},
   "outputs": [],
   "source": []
  }
 ],
 "metadata": {
  "kernelspec": {
   "display_name": "Python 3 (ipykernel)",
   "language": "python",
   "name": "python3"
  },
  "language_info": {
   "codemirror_mode": {
    "name": "ipython",
    "version": 3
   },
   "file_extension": ".py",
   "mimetype": "text/x-python",
   "name": "python",
   "nbconvert_exporter": "python",
   "pygments_lexer": "ipython3",
   "version": "3.8.18"
  }
 },
 "nbformat": 4,
 "nbformat_minor": 4
}
