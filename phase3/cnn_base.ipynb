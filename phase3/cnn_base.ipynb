{
 "cells": [
  {
   "cell_type": "code",
   "execution_count": 1,
   "metadata": {
    "tags": []
   },
   "outputs": [
    {
     "name": "stdout",
     "output_type": "stream",
     "text": [
      "Loading images from category: spidermite and subfolder: Tomato__spidermite\n",
      "Loading images from category: bacterialspot and subfolder: Tomato___Bacterialspot\n",
      "Category: earlyblight from subfolder Tomato___Earlyblight is not in the list of categories.\n",
      "Loading images from category: healthy and subfolder: Tomato___healthy\n",
      "Loading images from category: lateblight and subfolder: Tomato___Lateblight\n",
      "Loading images from category: leafmold and subfolder: Tomato___Leafmold\n",
      "Loading images from category: septorialeafspot and subfolder: Tomato___Septorialeafspot\n",
      "Category: targetspot from subfolder Tomato___Targetspot is not in the list of categories.\n",
      "Loading images from category: mosaicvirus and subfolder: Tomato___Tomato_mosaicvirus\n",
      "Loading images from category: yellowleafcurlvirus and subfolder: Tomato___Tomato_yellowleafcurlvirus\n",
      "Loading images from category: bacterialspot and subfolder: Tomato___Bacterialspot\n",
      "Category: earlyblight from subfolder Tomato___Earlyblight is not in the list of categories.\n",
      "Loading images from category: healthy and subfolder: Tomato___healthy\n",
      "Loading images from category: lateblight and subfolder: Tomato___Lateblight\n",
      "Loading images from category: leafmold and subfolder: Tomato___Leafmold\n",
      "Loading images from category: septorialeafspot and subfolder: Tomato___Septorialeafspot\n",
      "Loading images from category: spidermite and subfolder: Tomato___Spider_spidermite\n",
      "Category: targetspot from subfolder Tomato___Targetspot is not in the list of categories.\n",
      "Loading images from category: mosaicvirus and subfolder: Tomato___Tomato_mosaicvirus\n",
      "Loading images from category: yellowleafcurlvirus and subfolder: Tomato___Tomato_Yellowleafcurlvirus\n",
      "Loading images from category: bacterialspot and subfolder: tomato_bacterialspot\n",
      "Category: earlyblight from subfolder tomato_earlyblight is not in the list of categories.\n",
      "Loading images from category: healthy and subfolder: tomato_healthy\n",
      "Loading images from category: lateblight and subfolder: tomato_lateblight\n",
      "Loading images from category: leafmold and subfolder: tomato_leafmold\n",
      "Loading images from category: mosaicvirus and subfolder: tomato_mosaicvirus\n",
      "Loading images from category: septorialeafspot and subfolder: tomato_Septorialeafspot\n",
      "Loading images from category: spidermite and subfolder: tomato_spidermite\n",
      "Category: targetspot from subfolder tomato_targetspot is not in the list of categories.\n",
      "Loading images from category: yellowleafcurlvirus and subfolder: tomato_yellowleafcurlvirus\n",
      "Images loaded successfully\n"
     ]
    }
   ],
   "source": [
    "import os\n",
    "import numpy as np\n",
    "from PIL import Image\n",
    "import tensorflow as tf\n",
    "\n",
    "from tensorflow.keras.applications import VGG16\n",
    "from tensorflow.keras.layers import Dense, Flatten, Dropout\n",
    "from tensorflow.keras.models import Model\n",
    "\n",
    "train_dir = \"..\\isec-ic\\\\dataset\\\\train\"\n",
    "validation_dir = \"..\\isec-ic\\\\dataset\\\\valid\"\n",
    "test_dir = \"..\\isec-ic\\\\dataset\\\\test\"\n",
    "\n",
    "current_dir = os.path.dirname(os.path.realpath(__file__ if '__file__' in locals() else os.getcwd()))\n",
    "train_dir = os.path.join(current_dir, train_dir)\n",
    "validation_dir = os.path.join(current_dir, validation_dir)\n",
    "test_dir = os.path.join(current_dir, test_dir)\n",
    "\n",
    "categories = [\"bacterialspot\", \"healthy\",\"lateblight\",\"leafmold\", \"mosaicvirus\",\"yellowleafcurlvirus\" ,\"spidermite\",\"septorialeafspot\" ]\n",
    "\n",
    "def load_images_from_folder(folder):\n",
    "    images = []\n",
    "    labels = []\n",
    "    subfolders = os.listdir(folder)\n",
    "    for subfolder in subfolders:\n",
    "        category = subfolder.split(\"_\")[-1].lower()\n",
    "        if category in categories:\n",
    "            print(\"Loading images from category: \" + category + \" and subfolder: \" + subfolder)\n",
    "            subfolder_path = os.path.join(folder, subfolder)\n",
    "            for filename in os.listdir(subfolder_path):\n",
    "                img = Image.open(os.path.join(subfolder_path, filename))\n",
    "                img = img.resize((64, 64))\n",
    "                img = np.array(img) / 255.0\n",
    "                images.append(img)\n",
    "                labels.append(categories.index(category))\n",
    "        else:\n",
    "            print(\"Category: \" + category + \" from subfolder \" + subfolder + \" is not in the list of categories.\")\n",
    "    return np.array(images), np.array(labels)\n",
    "\n",
    "def create_cnn_model(dropout_rate, learning_rate):\n",
    "    base_model = VGG16(weights='imagenet', include_top=False, input_shape=(64, 64, 3))\n",
    "\n",
    "    for layer in base_model.layers:\n",
    "        layer.trainable = False\n",
    "\n",
    "    # Add the dense layers (top layers)\n",
    "    x = base_model.output\n",
    "    x = Flatten()(x)  # Flatten the output layer to 1 dimension\n",
    "    x = Dense(512, activation='relu')(x)   #  First dense layer\n",
    "    x = Dropout(dropout_rate)(x)  # Dropout to reduce overfitting\n",
    "    predictions = Dense(len(categories), activation='softmax')(x)  # Output layer\n",
    "\n",
    "    # Final model\n",
    "    model = Model(inputs=base_model.input, outputs=predictions)\n",
    "\n",
    "    model.compile(optimizer=tf.keras.optimizers.Adam(learning_rate=learning_rate),\n",
    "                  loss='sparse_categorical_crossentropy',\n",
    "                  metrics=['accuracy'])\n",
    "    return model\n",
    "\n",
    "x_train, y_train = load_images_from_folder(train_dir)\n",
    "x_validation, y_validation = load_images_from_folder(validation_dir)\n",
    "x_test, y_test = load_images_from_folder(test_dir)\n",
    "\n",
    "print(\"Images loaded successfully\")\n"
   ]
  },
  {
   "cell_type": "code",
   "execution_count": 6,
   "metadata": {
    "tags": []
   },
   "outputs": [
    {
     "name": "stdout",
     "output_type": "stream",
     "text": [
      "Treinando o modelo com os melhores hiperparâmetros...\n",
      "Epoch 1/20\n",
      "375/375 [==============================] - 3s 8ms/step - loss: 1.1978 - accuracy: 0.5927 - val_loss: 0.5139 - val_accuracy: 0.8294\n",
      "Epoch 2/20\n",
      "375/375 [==============================] - 3s 7ms/step - loss: 0.5832 - accuracy: 0.7978 - val_loss: 0.4769 - val_accuracy: 0.8403\n",
      "Epoch 3/20\n",
      "375/375 [==============================] - 3s 7ms/step - loss: 0.4738 - accuracy: 0.8381 - val_loss: 0.3965 - val_accuracy: 0.8641\n",
      "Epoch 4/20\n",
      "375/375 [==============================] - 2s 7ms/step - loss: 0.4106 - accuracy: 0.8546 - val_loss: 0.4065 - val_accuracy: 0.8584\n",
      "Epoch 5/20\n",
      "375/375 [==============================] - 3s 7ms/step - loss: 0.3795 - accuracy: 0.8657 - val_loss: 0.3259 - val_accuracy: 0.8863\n",
      "Epoch 6/20\n",
      "375/375 [==============================] - 3s 7ms/step - loss: 0.3304 - accuracy: 0.8859 - val_loss: 0.3574 - val_accuracy: 0.8803\n",
      "Epoch 7/20\n",
      "375/375 [==============================] - 2s 7ms/step - loss: 0.3283 - accuracy: 0.8834 - val_loss: 0.3097 - val_accuracy: 0.8944\n",
      "Epoch 8/20\n",
      "375/375 [==============================] - 3s 7ms/step - loss: 0.2855 - accuracy: 0.9000 - val_loss: 0.3181 - val_accuracy: 0.8931\n",
      "Epoch 9/20\n",
      "375/375 [==============================] - 3s 7ms/step - loss: 0.2698 - accuracy: 0.9057 - val_loss: 0.2733 - val_accuracy: 0.9097\n",
      "Epoch 10/20\n",
      "375/375 [==============================] - 3s 7ms/step - loss: 0.2639 - accuracy: 0.9045 - val_loss: 0.2711 - val_accuracy: 0.9084\n",
      "Epoch 11/20\n",
      "375/375 [==============================] - 3s 7ms/step - loss: 0.2496 - accuracy: 0.9106 - val_loss: 0.2795 - val_accuracy: 0.9050\n",
      "Epoch 12/20\n",
      "375/375 [==============================] - 3s 7ms/step - loss: 0.2265 - accuracy: 0.9194 - val_loss: 0.2643 - val_accuracy: 0.9094\n",
      "Epoch 13/20\n",
      "375/375 [==============================] - 3s 7ms/step - loss: 0.2077 - accuracy: 0.9250 - val_loss: 0.2639 - val_accuracy: 0.9087\n",
      "Epoch 14/20\n",
      "375/375 [==============================] - 3s 7ms/step - loss: 0.2084 - accuracy: 0.9288 - val_loss: 0.2708 - val_accuracy: 0.9084\n",
      "Epoch 15/20\n",
      "375/375 [==============================] - 3s 7ms/step - loss: 0.1952 - accuracy: 0.9277 - val_loss: 0.2842 - val_accuracy: 0.9038\n",
      "Epoch 16/20\n",
      "375/375 [==============================] - 3s 7ms/step - loss: 0.1859 - accuracy: 0.9333 - val_loss: 0.2782 - val_accuracy: 0.9059\n",
      "Epoch 17/20\n",
      "375/375 [==============================] - 3s 7ms/step - loss: 0.1797 - accuracy: 0.9328 - val_loss: 0.2718 - val_accuracy: 0.9119\n",
      "Epoch 18/20\n",
      "375/375 [==============================] - 3s 7ms/step - loss: 0.1742 - accuracy: 0.9372 - val_loss: 0.2481 - val_accuracy: 0.9162\n",
      "Epoch 19/20\n",
      "375/375 [==============================] - 3s 7ms/step - loss: 0.1656 - accuracy: 0.9420 - val_loss: 0.2651 - val_accuracy: 0.9109\n",
      "Epoch 20/20\n",
      "375/375 [==============================] - 3s 7ms/step - loss: 0.1571 - accuracy: 0.9436 - val_loss: 0.2588 - val_accuracy: 0.9119\n",
      "Melhor Accuracy de Treinamento (CNN VGG-16): 0.940416693687439\n",
      "Melhor Accuracy de Validação (CNN VGG-16): 0.9118750095367432\n"
     ]
    },
    {
     "data": {
      "image/png": "[encoded data removed]",
      "text/plain": [
       "<Figure size 640x480 with 1 Axes>"
      ]
     },
     "metadata": {},
     "output_type": "display_data"
    }
   ],
   "source": [
    "best_learning_rate = 0.001\n",
    "dropout_rate = 0.5\n",
    "\n",
    "print(\"Treinando o modelo com os melhores hiperparâmetros...\")\n",
    "best_model = create_cnn_model(dropout_rate, best_learning_rate)\n",
    "best_model_history = best_model.fit(x_train, y_train, epochs=20, batch_size=32, verbose=1, validation_data=(x_validation, y_validation))\n",
    "\n",
    "best_pso_train_accuracy = best_model_history.history['accuracy'][-1]\n",
    "best_pso_validation_accuracy = best_model_history.history['val_accuracy'][-1]\n",
    "\n",
    "print(\"Melhor Accuracy de Treinamento (CNN VGG-16):\", best_pso_train_accuracy)\n",
    "print(\"Melhor Accuracy de Validação (CNN VGG-16):\", best_pso_validation_accuracy)\n",
    "\n",
    "import matplotlib.pyplot as plt\n",
    "\n",
    "# Plotar as curvas de treino e validação\n",
    "plt.plot(best_model_history.history['accuracy'], label='Treinamento')\n",
    "plt.plot(best_model_history.history['val_accuracy'], label='Validação')\n",
    "plt.xlabel('Épocas')\n",
    "plt.ylabel('Accuracy')\n",
    "plt.legend()\n",
    "plt.show()\n"
   ]
  },
  {
   "cell_type": "code",
   "execution_count": 7,
   "metadata": {},
   "outputs": [
    {
     "name": "stdout",
     "output_type": "stream",
     "text": [
      "Avaliando o modelo no conjunto de teste...\n",
      "Acurácia no Teste: 0.9049999713897705, Loss: 0.2878306210041046\n"
     ]
    }
   ],
   "source": [
    "print(\"Avaliando o modelo no conjunto de teste...\")\n",
    "loss_test, test_accuracy = best_model.evaluate(x_test, y_test, verbose=0)\n",
    "\n",
    "print(f\"Acurácia no Teste: {test_accuracy}, Loss: {loss_test}\")"
   ]
  },
  {
   "cell_type": "code",
   "execution_count": null,
   "metadata": {},
   "outputs": [],
   "source": []
  }
 ],
 "metadata": {
  "kernelspec": {
   "display_name": "Python 3 (ipykernel)",
   "language": "python",
   "name": "python3"
  },
  "language_info": {
   "codemirror_mode": {
    "name": "ipython",
    "version": 3
   },
   "file_extension": ".py",
   "mimetype": "text/x-python",
   "name": "python",
   "nbconvert_exporter": "python",
   "pygments_lexer": "ipython3",
   "version": "3.8.18"
  }
 },
 "nbformat": 4,
 "nbformat_minor": 4
}
