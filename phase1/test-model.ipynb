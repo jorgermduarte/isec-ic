{
 "cells": [
  {
   "cell_type": "code",
   "execution_count": 4,
   "id": "cd05cd09-b2f7-4bc0-8a66-bebf191382ef",
   "metadata": {
    "tags": []
   },
   "outputs": [
    {
     "name": "stdout",
     "output_type": "stream",
     "text": [
      "1/1 [==============================] - 0s 28ms/step\n",
      "[[1.2913033e-04 9.9985671e-01 1.3980526e-05 2.4800242e-10 3.8647037e-14\n",
      "  2.0968247e-09 5.5024918e-09 6.5504096e-08]]\n",
      "Predicted Label: healthy \n",
      "\n",
      "Probability by class: \n",
      " - bacterialspot: 0.01%\n",
      " - healthy: 99.99%\n",
      " - lateblight: 0.00%\n",
      " - leafmold: 0.00%\n",
      " - mosaicvirus: 0.00%\n",
      " - yellowleafcurlvirus: 0.00%\n",
      " - spidermite: 0.00%\n",
      " - septorialeafspot: 0.00%\n"
     ]
    }
   ],
   "source": [
    "import os\n",
    "import numpy as np\n",
    "from PIL import Image\n",
    "from tensorflow.keras.preprocessing.image import load_img, img_to_array\n",
    "import tensorflow as tf\n",
    "\n",
    "\n",
    "model_path = './base_results/0.91375_f7e236c2-4602-4bfb-9d76-9ac47d633d83_model_adam_lr0.001_epochs100_lfsparse_categorical_crossentropy_64x64_nc1_64_elu_nc2_64_elu__8_classes.keras'\n",
    "test_image_path = '../dataset/test/tomato_healthy/e0587774-746c-41af-a876-b3d083756a23___RS_HL 0588.JPG'\n",
    "\n",
    "model = tf.keras.models.load_model(model_path)\n",
    "categories = [\"bacterialspot\", \"healthy\", \"lateblight\", \"leafmold\", \"mosaicvirus\", \"yellowleafcurlvirus\", \"spidermite\", \"septorialeafspot\"]\n",
    "\n",
    "test_image = load_img(test_image_path, target_size=(64, 64))\n",
    "test_image = img_to_array(test_image)\n",
    "test_image = test_image / 255.0 \n",
    "test_image = np.expand_dims(test_image, axis=0) \n",
    "\n",
    "predictions = model.predict(test_image)\n",
    "predicted_label = np.argmax(predictions)\n",
    "\n",
    "#print(predictions)\n",
    "\n",
    "# Mostrar a classe prevista\n",
    "print(\"Predicted Label:\", categories[predicted_label], \"\\n\")\n",
    "\n",
    "\n",
    "print(\"Probability by class: \");\n",
    "# Mostrar as probabilidades para cada classe\n",
    "for i, category in enumerate(categories):\n",
    "    print(f\" - {category}: {predictions[0][i] * 100:.2f}%\")\n"
   ]
  },
  {
   "cell_type": "code",
   "execution_count": null,
   "id": "aef655f4-7787-473c-b3f6-1b58ef337fd3",
   "metadata": {},
   "outputs": [],
   "source": []
  }
 ],
 "metadata": {
  "kernelspec": {
   "display_name": "Python 3 (ipykernel)",
   "language": "python",
   "name": "python3"
  },
  "language_info": {
   "codemirror_mode": {
    "name": "ipython",
    "version": 3
   },
   "file_extension": ".py",
   "mimetype": "text/x-python",
   "name": "python",
   "nbconvert_exporter": "python",
   "pygments_lexer": "ipython3",
   "version": "3.8.18"
  }
 },
 "nbformat": 4,
 "nbformat_minor": 5
}
