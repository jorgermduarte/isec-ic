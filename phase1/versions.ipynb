{
 "cells": [
  {
   "cell_type": "code",
   "execution_count": 3,
   "id": "8c4c381f-cce7-4d06-b360-209a106de664",
   "metadata": {
    "tags": []
   },
   "outputs": [
    {
     "name": "stdout",
     "output_type": "stream",
     "text": [
      "numpy versão: 1.24.3\n",
      "PIL (Pillow) versão: 10.0.1\n",
      "tensorflow versão: 2.13.0\n",
      "scikit-learn versão: 1.3.1\n",
      "seaborn versão: 0.13.0\n",
      "matplotlib versão: 3.7.3\n",
      "pandas versão: 2.0.3\n"
     ]
    }
   ],
   "source": [
    "import numpy\n",
    "import PIL\n",
    "import tensorflow\n",
    "import sklearn\n",
    "import seaborn\n",
    "import matplotlib\n",
    "import pandas\n",
    "\n",
    "print(f\"numpy versão: {numpy.__version__}\")\n",
    "print(f\"PIL (Pillow) versão: {PIL.__version__}\")\n",
    "print(f\"tensorflow versão: {tensorflow.__version__}\")\n",
    "print(f\"scikit-learn versão: {sklearn.__version__}\")\n",
    "print(f\"seaborn versão: {seaborn.__version__}\")\n",
    "print(f\"matplotlib versão: {matplotlib.__version__}\")\n",
    "print(f\"pandas versão: {pandas.__version__}\")"
   ]
  },
  {
   "cell_type": "code",
   "execution_count": 5,
   "id": "a8c1d760-bb70-4005-b32e-6b61e3551491",
   "metadata": {
    "tags": []
   },
   "outputs": [
    {
     "name": "stdout",
     "output_type": "stream",
     "text": [
      "[name: \"/device:CPU:0\"\n",
      "device_type: \"CPU\"\n",
      "memory_limit: 268435456\n",
      "locality {\n",
      "}\n",
      "incarnation: 9049307516017435557\n",
      "xla_global_id: -1\n",
      "]\n"
     ]
    }
   ],
   "source": [
    "from tensorflow.python.client import device_lib\n",
    "print(device_lib.list_local_devices())\n"
   ]
  }
 ],
 "metadata": {
  "kernelspec": {
   "display_name": "Python 3 (ipykernel)",
   "language": "python",
   "name": "python3"
  },
  "language_info": {
   "codemirror_mode": {
    "name": "ipython",
    "version": 3
   },
   "file_extension": ".py",
   "mimetype": "text/x-python",
   "name": "python",
   "nbconvert_exporter": "python",
   "pygments_lexer": "ipython3",
   "version": "3.8.18"
  }
 },
 "nbformat": 4,
 "nbformat_minor": 5
}
